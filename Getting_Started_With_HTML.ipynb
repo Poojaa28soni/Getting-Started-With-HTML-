{
  "nbformat": 4,
  "nbformat_minor": 0,
  "metadata": {
    "colab": {
      "provenance": []
    },
    "kernelspec": {
      "name": "python3",
      "display_name": "Python 3"
    },
    "language_info": {
      "name": "python"
    }
  },
  "cells": [
    {
      "cell_type": "markdown",
      "source": [],
      "metadata": {
        "id": "svIShXeRL80l"
      }
    },
    {
      "cell_type": "markdown",
      "source": [
        "1.Write a simple program in HTML  that displays the heading \"HTML defines the content and structure of\n",
        "your website” on the web browser?\n",
        "\n",
        "```html\n",
        "<!DOCTYPE html>\n",
        "<html>\n",
        "<head>\n",
        "  <title>HTML Heading Example</title>\n",
        "</head>\n",
        "<body>\n",
        "  <h1>HTML defines the content and structure of your website</h1>\n",
        "</body>\n",
        "</html>\n",
        "  <title>HTML Heading Example</title>\n",
        "</head>\n",
        "<body>\n",
        "  <h1>HTML defines the content and structure of your website</h1>\n",
        "</body>\n",
        "</html>\n",
        "'''\n",
        "\n",
        "  "
      ],
      "metadata": {
        "id": "aRq37Qx3DYfZ"
      }
    },
    {
      "cell_type": "markdown",
      "source": [
        "2. Explain the purpose of comments in HTML and provide an example of how to use comments in an HTML\n",
        "document?\n",
        "  -  Purpose of Comments in HTML:\n",
        "     Comments in HTML are used to add notes, explanations, or reminders within the code. These notes do not appear on the web page and are only visible in the source code. They are helpful for:\n",
        "\n",
        "     a. Explaining sections of code\n",
        "\n",
        "     b. Making code easier to understand\n",
        "     and maintain\n",
        "\n",
        "     c. Temporarily disabling code during testing\n",
        "     \n",
        "     Syntax of an HTML Comment:\n",
        "\n",
        "     <!-- This is a comment -->\n",
        "\n",
        "```html     \n",
        "<!DOCTYPE html>\n",
        "<html>\n",
        "<head>\n",
        "  <title>Comment Example</title>\n",
        "</head>\n",
        "<body>\n",
        "\n",
        "<!-- This is a main heading -->\n",
        "<h1>Welcome to My Website</h1>\n",
        "\n",
        "<!-- This paragraph explains the purpose of the site -->\n",
        "<p>This website is all about learning HTML.</p>\n",
        "\n",
        "</body>\n",
        "</html>\n",
        "'''\n",
        "\n"
      ],
      "metadata": {
        "id": "nAVgmJJUEAzg"
      }
    },
    {
      "cell_type": "markdown",
      "source": [
        "3. Write an HTML program that includes a heading, a paragraph of text, a horizontal line, and a line break.\n",
        "Arrange these elements to create a simple web page layout?\n",
        "\n",
        "\n",
        "```html\n",
        "<!DOCTYPE html>\n",
        "<html>\n",
        "<head>\n",
        "  <title>Simple Web Page Layout</title>\n",
        "</head>\n",
        "<body>\n",
        "\n",
        "<h1>Welcome to My Simple Web Page</h1>\n",
        "\n",
        "<p>\n",
        "    This is a paragraph of text describing the content of the page.<br>\n",
        "    It continues after a line break to show how content flows.\n",
        "</p>\n",
        "\n",
        "<hr>\n",
        "\n",
        "<p>\n",
        "    Here's another section of content below the horizontal line.\n",
        "</p>\n",
        "\n",
        "</body>\n",
        "</html>\n",
        "'''\n",
        "\n",
        "\n"
      ],
      "metadata": {
        "id": "MIeAzH26E90q"
      }
    },
    {
      "cell_type": "markdown",
      "source": [
        "4. Write a short note on Tag and element with an example?\n",
        "\n",
        "  ```html\n",
        "  1. Heading (<h1> to <h6>): Titles or subtitles, important  \n",
        "     for SEO.\n",
        "     ex- <h1>Heading 1</h1>\n",
        "         <h2>Heading 2</h2>\n",
        "         <h3>Heading 3</h3>\n",
        "         <h4>Heading 4</h4>\n",
        "         <h5>Heading 5</h5>\n",
        "         <h6>Heading 6</h6>\n",
        "\n",
        "     2. Paragraph (<p>): Block of text with automatic spacing.\n",
        "      ex- <p>This is a paragraph of text.</p>\n",
        "\n",
        "     3. Horizontal Rule (<hr>): Thematic break or separator.\n",
        "      ex- <hr>\n",
        "\n",
        "     4. Line Break (<br>): Creates line break within text.\n",
        "      ex- Line 1<br>Line 2\n",
        "\n",
        "     5. Span (<span>): Inline container for text formatting.\n",
        "      ex-  <p>This is a <span style=\"color:red;\">red word</span> in a sentence.</p>\n",
        "     '''\n",
        "     \n",
        "\n",
        "\n"
      ],
      "metadata": {
        "id": "rZqoaRs1L-1O"
      }
    },
    {
      "cell_type": "markdown",
      "source": [
        "5. What is the DOCTYPE Declaration in HTML?\n",
        "  -   The DOCTYPE declaration tells the web browser which\n",
        "      version of HTML the page is written in, so it can display the content correctly.\n",
        "\n",
        "      Syntax:\n",
        "      <!DOCTYPE html>\n",
        "      Purpose:\n",
        "      a. It must be the first line in any HTML document.\n",
        "\n",
        "      b. It ensures the browser runs in standards-compliant mode.\n",
        "\n",
        "      In modern web development, it is used to declare HTML5.\n",
        "\n",
        "       Example:\n",
        "       \n",
        "       ```html\n",
        "       <!DOCTYPE html>\n",
        "       <html>\n",
        "       <head>\n",
        "       <title>Sample Page</title>\n",
        "       </head>\n",
        "       <body>\n",
        "       <h1>Hello, World!</h1>\n",
        "       </body>\n",
        "       </html>\n",
        "       '''\n",
        "\n",
        "\n",
        "       This tells the browser: \"Render this page using HTML5 rules.\""
      ],
      "metadata": {
        "id": "t_SIjBEMKJrT"
      }
    },
    {
      "cell_type": "markdown",
      "source": [],
      "metadata": {
        "id": "NhJHqOydLAj6"
      }
    },
    {
      "cell_type": "code",
      "source": [],
      "metadata": {
        "id": "3EHCQpcLKS6o"
      },
      "execution_count": null,
      "outputs": []
    }
  ]
}